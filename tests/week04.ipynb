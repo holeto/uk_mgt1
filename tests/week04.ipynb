{
 "cells": [
  {
   "cell_type": "code",
   "execution_count": 1,
   "id": "1e68843c-4ad9-42dd-930e-cfc4c6220b20",
   "metadata": {},
   "outputs": [],
   "source": [
    "import numpy as np\n",
    "import week4"
   ]
  },
  {
   "cell_type": "code",
   "execution_count": 2,
   "id": "8a0de39d-8edb-48c3-b414-ad7e8840ec7e",
   "metadata": {},
   "outputs": [],
   "source": [
    "np.set_printoptions(precision=3)"
   ]
  },
  {
   "cell_type": "code",
   "execution_count": 3,
   "id": "506c2c6e-2f28-4175-b1af-f34ffbbb35a7",
   "metadata": {},
   "outputs": [
    {
     "name": "stdout",
     "output_type": "stream",
     "text": [
      "Row Player's strategy in a Nash Equilibrium: [0.571 0.429]\n",
      "Column Player' strategy in a Nash Equilibrium: [0.    0.571 0.429]\n",
      "Correlated Equilibrium:\n",
      "[[0.    0.327 0.245]\n",
      " [0.    0.245 0.184]]\n",
      "\n",
      "Row Player's strategy in a Nash Equilibrium: [0.333 0.333 0.333]\n",
      "Column Player' strategy in a Nash Equilibrium: [0.333 0.333 0.333]\n",
      "Correlated Equilibrium:\n",
      "[[0.111 0.111 0.111]\n",
      " [0.111 0.111 0.111]\n",
      " [0.111 0.111 0.111]]\n",
      "\n",
      "Row Player's strategy in a Nash Equilibrium: [0.5 0.5 0. ]\n",
      "Column Player' strategy in a Nash Equilibrium: [0.5 0.5 0. ]\n",
      "Correlated Equilibrium:\n",
      "[[ 0.25  0.25  0.  ]\n",
      " [ 0.25  0.25  0.  ]\n",
      " [-0.    0.    0.  ]]\n",
      "\n",
      "Row Player's strategy in a Nash Equilibrium: [0.5 0.5]\n",
      "Column Player' strategy in a Nash Equilibrium: [0.5 0.5]\n",
      "Correlated Equilibrium:\n",
      "[[0.25 0.25]\n",
      " [0.25 0.25]]\n",
      "\n"
     ]
    }
   ],
   "source": [
    "# The reference solution uses the default solver in `scipy.optimize.lingprog`\n",
    "\n",
    "games = [\n",
    "    np.array([[30, -10, 20], [-10, 20, -20]], dtype=np.float32),\n",
    "    np.array([[0, -1, 1], [1, 0, -1], [-1, 1, 0]], dtype=np.float32),\n",
    "    np.array([[0, 7, 7], [7, 0, 7], [3, 3, 3]], dtype=np.float32),\n",
    "    np.array([[1, -1], [-1, 1]], dtype=np.float32)\n",
    "]\n",
    "\n",
    "for matrix in games:\n",
    "    row_strategy, col_strategy = week4.find_nash_equilibrium(matrix)\n",
    "    correlated_equilibrium = week4.find_correlated_equilibrium(matrix, -matrix)\n",
    "    \n",
    "    print(f\"Row Player's strategy in a Nash Equilibrium: {row_strategy}\")\n",
    "    print(f\"Column Player' strategy in a Nash Equilibrium: {col_strategy}\")\n",
    "    \n",
    "    print(f'Correlated Equilibrium:')\n",
    "    print(correlated_equilibrium)\n",
    "    print()"
   ]
  },
  {
   "cell_type": "code",
   "execution_count": 4,
   "id": "56b2f921-e574-48e6-a9f5-f009f892e621",
   "metadata": {},
   "outputs": [
    {
     "name": "stdout",
     "output_type": "stream",
     "text": [
      "Correlated Equilibrium:\n",
      "[[0. 1.]\n",
      " [0. 0.]]\n",
      "\n",
      "Correlated Equilibrium:\n",
      "[[0. 1.]\n",
      " [0. 0.]]\n",
      "\n",
      "Correlated Equilibrium:\n",
      "[[1. 0.]\n",
      " [0. 0.]]\n",
      "\n"
     ]
    }
   ],
   "source": [
    "games = [\n",
    "    (np.array([[4, 1], [5, 0]], dtype=np.float32), np.array([[4, 5], [1, 0]], dtype=np.float32)),\n",
    "    (np.array([[0, -1], [1, -10]], dtype=np.float32), np.array([[0, 1], [-1, -10]], dtype=np.float32)),\n",
    "    (np.array([[-2, 0], [-3, -1]], dtype=np.float32), np.array([[-2, -3], [0, -1]], dtype=np.float32))\n",
    "]\n",
    "\n",
    "for (matrix1, matrix2) in games:\n",
    "    correlated_equilibrium = week4.find_correlated_equilibrium(matrix1, matrix2)\n",
    "    \n",
    "    print(f'Correlated Equilibrium:')\n",
    "    print(correlated_equilibrium)\n",
    "    print()"
   ]
  }
 ],
 "metadata": {
  "kernelspec": {
   "display_name": ".venv",
   "language": "python",
   "name": "python3"
  },
  "language_info": {
   "codemirror_mode": {
    "name": "ipython",
    "version": 3
   },
   "file_extension": ".py",
   "mimetype": "text/x-python",
   "name": "python",
   "nbconvert_exporter": "python",
   "pygments_lexer": "ipython3",
   "version": "3.12.8"
  }
 },
 "nbformat": 4,
 "nbformat_minor": 5
}
